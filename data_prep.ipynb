{
 "cells": [
  {
   "cell_type": "code",
   "execution_count": 2,
   "metadata": {},
   "outputs": [],
   "source": [
    "import pandas as pd\n",
    "import numpy as np\n",
    "\n",
    "from scipy import stats\n",
    "\n",
    "from collections import Counter"
   ]
  },
  {
   "cell_type": "code",
   "execution_count": 3,
   "metadata": {},
   "outputs": [],
   "source": [
    "df = pd.read_csv(\"./assets/fraud_detection_data.csv\")"
   ]
  },
  {
   "cell_type": "code",
   "execution_count": 4,
   "metadata": {},
   "outputs": [],
   "source": [
    "df['card_number'] = df['card_number'].astype(str)"
   ]
  },
  {
   "cell_type": "code",
   "execution_count": 5,
   "metadata": {},
   "outputs": [
    {
     "name": "stdout",
     "output_type": "stream",
     "text": [
      "<class 'pandas.core.frame.DataFrame'>\n",
      "RangeIndex: 1743 entries, 0 to 1742\n",
      "Data columns (total 15 columns):\n",
      " #   Column                  Non-Null Count  Dtype  \n",
      "---  ------                  --------------  -----  \n",
      " 0   transaction_id          1743 non-null   object \n",
      " 1   transaction_date        1743 non-null   object \n",
      " 2   card_number             1743 non-null   object \n",
      " 3   card_type               1743 non-null   object \n",
      " 4   merchant_name           1743 non-null   object \n",
      " 5   merchant_category       1743 non-null   object \n",
      " 6   merchant_state          1743 non-null   object \n",
      " 7   merchant_city           1743 non-null   object \n",
      " 8   transaction_status      1743 non-null   object \n",
      " 9   transaction_amount      1743 non-null   float64\n",
      " 10  merchant_category_code  1743 non-null   object \n",
      " 11  fraud_flag              1743 non-null   int64  \n",
      " 12  cardholder_name         1743 non-null   object \n",
      " 13  items                   1743 non-null   object \n",
      " 14  prices                  1743 non-null   object \n",
      "dtypes: float64(1), int64(1), object(13)\n",
      "memory usage: 204.4+ KB\n"
     ]
    }
   ],
   "source": [
    "df.info()"
   ]
  },
  {
   "cell_type": "code",
   "execution_count": 6,
   "metadata": {},
   "outputs": [
    {
     "data": {
      "text/html": [
       "<div>\n",
       "<style scoped>\n",
       "    .dataframe tbody tr th:only-of-type {\n",
       "        vertical-align: middle;\n",
       "    }\n",
       "\n",
       "    .dataframe tbody tr th {\n",
       "        vertical-align: top;\n",
       "    }\n",
       "\n",
       "    .dataframe thead th {\n",
       "        text-align: right;\n",
       "    }\n",
       "</style>\n",
       "<table border=\"1\" class=\"dataframe\">\n",
       "  <thead>\n",
       "    <tr style=\"text-align: right;\">\n",
       "      <th></th>\n",
       "      <th>transaction_amount</th>\n",
       "      <th>fraud_flag</th>\n",
       "    </tr>\n",
       "  </thead>\n",
       "  <tbody>\n",
       "    <tr>\n",
       "      <th>count</th>\n",
       "      <td>1743.000000</td>\n",
       "      <td>1743.000000</td>\n",
       "    </tr>\n",
       "    <tr>\n",
       "      <th>mean</th>\n",
       "      <td>8.327040</td>\n",
       "      <td>0.026391</td>\n",
       "    </tr>\n",
       "    <tr>\n",
       "      <th>std</th>\n",
       "      <td>5.127765</td>\n",
       "      <td>0.160342</td>\n",
       "    </tr>\n",
       "    <tr>\n",
       "      <th>min</th>\n",
       "      <td>6.590000</td>\n",
       "      <td>0.000000</td>\n",
       "    </tr>\n",
       "    <tr>\n",
       "      <th>25%</th>\n",
       "      <td>6.590000</td>\n",
       "      <td>0.000000</td>\n",
       "    </tr>\n",
       "    <tr>\n",
       "      <th>50%</th>\n",
       "      <td>6.590000</td>\n",
       "      <td>0.000000</td>\n",
       "    </tr>\n",
       "    <tr>\n",
       "      <th>75%</th>\n",
       "      <td>6.590000</td>\n",
       "      <td>0.000000</td>\n",
       "    </tr>\n",
       "    <tr>\n",
       "      <th>max</th>\n",
       "      <td>62.300000</td>\n",
       "      <td>1.000000</td>\n",
       "    </tr>\n",
       "  </tbody>\n",
       "</table>\n",
       "</div>"
      ],
      "text/plain": [
       "       transaction_amount   fraud_flag\n",
       "count         1743.000000  1743.000000\n",
       "mean             8.327040     0.026391\n",
       "std              5.127765     0.160342\n",
       "min              6.590000     0.000000\n",
       "25%              6.590000     0.000000\n",
       "50%              6.590000     0.000000\n",
       "75%              6.590000     0.000000\n",
       "max             62.300000     1.000000"
      ]
     },
     "execution_count": 6,
     "metadata": {},
     "output_type": "execute_result"
    }
   ],
   "source": [
    "df.describe()"
   ]
  },
  {
   "cell_type": "code",
   "execution_count": 8,
   "metadata": {},
   "outputs": [
    {
     "data": {
      "text/plain": [
       "Index(['transaction_id', 'transaction_date', 'card_number', 'card_type',\n",
       "       'merchant_name', 'merchant_category', 'merchant_state', 'merchant_city',\n",
       "       'transaction_status', 'transaction_amount', 'merchant_category_code',\n",
       "       'fraud_flag', 'cardholder_name', 'items', 'prices'],\n",
       "      dtype='object')"
      ]
     },
     "execution_count": 8,
     "metadata": {},
     "output_type": "execute_result"
    }
   ],
   "source": [
    "df.columns"
   ]
  },
  {
   "cell_type": "code",
   "execution_count": 10,
   "metadata": {},
   "outputs": [
    {
     "data": {
      "text/plain": [
       "Counter({0: 1697, 1: 46})"
      ]
     },
     "execution_count": 10,
     "metadata": {},
     "output_type": "execute_result"
    }
   ],
   "source": [
    "# analyze the distirbution in fraudulent and legitimate transactions, where fraud has a label of 1 and a legitimate transaction is 0:\n",
    "Counter(df['fraud_flag'])"
   ]
  },
  {
   "cell_type": "code",
   "execution_count": 11,
   "metadata": {},
   "outputs": [],
   "source": [
    "import ast "
   ]
  },
  {
   "cell_type": "code",
   "execution_count": 16,
   "metadata": {},
   "outputs": [],
   "source": [
    "# convert the categorical columns in our data into machine readable codes\n",
    "df['merchant_state'] = df['merchant_state'].astype('category')\n",
    "df['merchant_state_code'] = df['merchant_state'].cat.codes\n",
    "\n",
    "df['merchant_city'] = df['merchant_city'].astype('category')\n",
    "df['merchant_city_code'] = df['merchant_city'].cat.codes\n",
    "\n",
    "\n",
    "df['card_type'] = df['card_type'].astype('category')\n",
    "df['card_type_code'] = df['card_type'].cat.codes\n",
    "\n",
    "\n",
    "df['cardholder_name'] = df['cardholder_name'].astype('category')\n",
    "df['cardholder_name_code'] = df['cardholder_name'].cat.codes"
   ]
  },
  {
   "cell_type": "code",
   "execution_count": 17,
   "metadata": {},
   "outputs": [],
   "source": [
    "# count the number of items purchased for each transaction:\n",
    "number_of_items = [len(ast.literal_eval(x)) for x in list(df['items'])]\n",
    "\n",
    "df['number_of_items'] = number_of_items"
   ]
  },
  {
   "cell_type": "code",
   "execution_count": 19,
   "metadata": {},
   "outputs": [],
   "source": [
    "#  use Z-scores to filter outliers in transaction_amount values.\n",
    "# an outlier is defined as any data point that falls 3 or more standard deviations from the mean\n",
    "threshold = 3\n",
    "z_scores = np.abs(stats.zscore(df['transaction_amount']))\n",
    "df_no_outliers = df[(z_scores < threshold)]"
   ]
  },
  {
   "cell_type": "code",
   "execution_count": 20,
   "metadata": {},
   "outputs": [],
   "source": [
    "# Define our features and targets\n",
    "features  = ['merchant_state_code','merchant_city_code', 'card_type_code','cardholder_name_code',\n",
    "             'transaction_amount', 'number_of_items']\n",
    "target = 'fraud_flag'\n",
    "X = df_no_outliers[features]\n",
    "\n",
    "y = df_no_outliers[target]"
   ]
  },
  {
   "cell_type": "code",
   "execution_count": 21,
   "metadata": {},
   "outputs": [],
   "source": [
    "#  write our features inputs and target data to CSV files\n",
    "X.to_csv(\"features.csv\", index=False)\n",
    "\n",
    "y.to_csv(\"targets.csv\", index=False)"
   ]
  },
  {
   "cell_type": "code",
   "execution_count": null,
   "metadata": {},
   "outputs": [],
   "source": []
  }
 ],
 "metadata": {
  "kernelspec": {
   "display_name": "venv",
   "language": "python",
   "name": "python3"
  },
  "language_info": {
   "codemirror_mode": {
    "name": "ipython",
    "version": 3
   },
   "file_extension": ".py",
   "mimetype": "text/x-python",
   "name": "python",
   "nbconvert_exporter": "python",
   "pygments_lexer": "ipython3",
   "version": "3.11.9"
  }
 },
 "nbformat": 4,
 "nbformat_minor": 2
}
