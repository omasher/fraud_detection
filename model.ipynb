{
 "cells": [
  {
   "cell_type": "code",
   "execution_count": 1,
   "metadata": {},
   "outputs": [],
   "source": [
    "from sklearn.ensemble import RandomForestClassifier # used to define random forest model\n",
    "# GridSearchCV used to perform hyperparameter search:\n",
    "from sklearn.model_selection import GridSearchCV, train_test_split\n",
    "from sklearn.datasets import load_iris\n",
    "import numpy as np \n",
    "import pandas as pd "
   ]
  },
  {
   "cell_type": "code",
   "execution_count": 3,
   "metadata": {},
   "outputs": [],
   "source": [
    "# define the grid used to perform hyperparameter search\n",
    "# define a range of estimators, which are the number of individual decision trees used to construct the random forest, \n",
    "# as 20–100 estimators, with an increment value of 20\n",
    "n_estimators_range = np.arange(20, 100, 20)\n",
    "\n",
    "# define the range of max depth values for each decision tree, which is the maximum number of nodes \n",
    "# from the root of the decision tree to the farthest leaf, as 5–30 in increments of 5\n",
    "max_depth_range = np.arange(5, 30, 5)\n",
    "param_grid = {\n",
    "    'n_estimators': n_estimators_range,\n",
    "    'max_depth': max_depth_range,\n",
    "\n",
    "}"
   ]
  },
  {
   "cell_type": "code",
   "execution_count": 4,
   "metadata": {},
   "outputs": [],
   "source": [
    "# the random forest classifier model object\n",
    "rf_classifier = RandomForestClassifier(random_state=64)"
   ]
  },
  {
   "cell_type": "code",
   "execution_count": 5,
   "metadata": {},
   "outputs": [],
   "source": [
    "# read in features and targets files\n",
    "X = pd.read_csv(\"features.csv\")\n",
    "\n",
    "y = pd.read_csv(\"targets.csv\")"
   ]
  },
  {
   "cell_type": "code",
   "execution_count": 6,
   "metadata": {},
   "outputs": [],
   "source": [
    "# Split data for training and testing \n",
    "X_train, X_test, y_train, y_test = train_test_split(X, y, random_state=128, test_size = 0.2)"
   ]
  },
  {
   "cell_type": "code",
   "execution_count": null,
   "metadata": {},
   "outputs": [],
   "source": []
  }
 ],
 "metadata": {
  "kernelspec": {
   "display_name": "venv",
   "language": "python",
   "name": "python3"
  },
  "language_info": {
   "codemirror_mode": {
    "name": "ipython",
    "version": 3
   },
   "file_extension": ".py",
   "mimetype": "text/x-python",
   "name": "python",
   "nbconvert_exporter": "python",
   "pygments_lexer": "ipython3",
   "version": "3.11.9"
  }
 },
 "nbformat": 4,
 "nbformat_minor": 2
}
